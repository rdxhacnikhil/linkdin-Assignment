{
 "cells": [
  {
   "cell_type": "markdown",
   "id": "22c367eb",
   "metadata": {},
   "source": [
    "<h4>1. Write a code to find the degree of each vertex, and store it in a dictionary. Sort the keys of the dictionary by the degree stored in the values.</h4>"
   ]
  },
  {
   "cell_type": "code",
   "execution_count": 1,
   "id": "c10d04dc",
   "metadata": {},
   "outputs": [
    {
     "name": "stdout",
     "output_type": "stream",
     "text": [
      "Alice: 2\n",
      "Bob: 2\n",
      "Charlie: 1\n",
      "David: 1\n"
     ]
    }
   ],
   "source": [
    "def degree_and_sort(result_dict):\n",
    "    freq = {}  # Step 1: Count frequency of each node in all the value lists\n",
    "    for val_list in result_dict.values():\n",
    "        for node in val_list:\n",
    "            if node not in freq:\n",
    "                freq[node] = 1\n",
    "            else:\n",
    "                freq[node] += 1\n",
    "\n",
    "    # Step 2: Build result dictionary with degree info (number of connections)\n",
    "    result = {}\n",
    "    seen = set()  # To keep track of nodes already added\n",
    "\n",
    "    for key, val_list in result_dict.items():\n",
    "        result[key] = len(val_list)  # Direct connections (outgoing degree)\n",
    "\n",
    "        for node in val_list:\n",
    "            if node not in seen:  # Add only if not already processed\n",
    "                result[node] = freq[node]  # Use pre-counted frequency\n",
    "                seen.add(node)\n",
    "\n",
    "    # Step 3: Sort the result dictionary by value (degree) in descending order using bubble sort\n",
    "    result_items = list(result.items())  # Convert dictionary to list of (node, degree) tuples\n",
    "\n",
    "    n = len(result_items)\n",
    "    for i in range(n):\n",
    "        for j in range(0, n - i - 1):\n",
    "            if result_items[j][1] < result_items[j + 1][1]:  # Compare degrees\n",
    "                result_items[j], result_items[j + 1] = result_items[j + 1], result_items[j]  # Swap if out of order\n",
    "\n",
    "    return result_items  # Return sorted list\n",
    "\n",
    "\n",
    "# 🔽 Example usage\n",
    "full_con = {\n",
    "    \"Alice\": [\"Bob\", \"Charlie\"],\n",
    "    \"Bob\": [\"Alice\", \"David\"],\n",
    "    \"Charlie\": [\"Alice\"],\n",
    "    \"David\": [\"Bob\"]\n",
    "}\n",
    "\n",
    "# 🔽 Display result\n",
    "for key, value in degree_and_sort(full_con):\n",
    "    print(f\"{key}: {value}\")\n"
   ]
  },
  {
   "cell_type": "markdown",
   "id": "1265eb9c",
   "metadata": {},
   "source": [
    "<h4>2. Write a code to inter-convert the 3 graph representations we have learnt.</h4>"
   ]
  },
  {
   "cell_type": "code",
   "execution_count": null,
   "id": "ab51f601",
   "metadata": {},
   "outputs": [
    {
     "name": "stdout",
     "output_type": "stream",
     "text": [
      "{('s4', 's3'), ('s1', 's2'), ('s1', 's5'), ('s5', 's1'), ('s2', 's1'), ('s2', 's3'), ('s5', 's2'), ('s3', 's4'), ('s3', 's2'), ('s2', 's5')}\n"
     ]
    }
   ],
   "source": [
    "#1...... Function to convert adjacency list to edge list\n",
    "def adjencylist_to_edge_list(dict):\n",
    "    l1 = set()  # Set to store unique edges\n",
    "\n",
    "    # Iterate over each node in the adjacency list\n",
    "    for i in dict.keys():\n",
    "        value = dict[i]  # Get neighbors of node i\n",
    "\n",
    "        # For every neighbor j of node i\n",
    "        for j in value:\n",
    "            l1.add((i, j))  # Add the edge (i, j) to the set\n",
    "\n",
    "    return l1  # Return the complete edge list as a set of tuples\n",
    "\n",
    "\n",
    "# Undirected graph represented as an adjacency list\n",
    "Adjaceny_list_undirected = {\n",
    "    \"s1\": [\"s2\", \"s5\"],\n",
    "    \"s2\": [\"s5\", \"s1\", \"s3\"],\n",
    "    \"s3\": [\"s2\", \"s4\"],\n",
    "    \"s4\": [\"s3\"],\n",
    "    \"s5\": [\"s1\", \"s2\"],\n",
    "}\n",
    "\n",
    "# Call the function and print the edge list\n",
    "print(adjencylist_to_edge_list(Adjaceny_list_undirected))\n"
   ]
  },
  {
   "cell_type": "code",
   "execution_count": null,
   "id": "06901eee",
   "metadata": {},
   "outputs": [
    {
     "name": "stdout",
     "output_type": "stream",
     "text": [
      "[0, 1, 0, 0, 1]\n",
      "[1, 0, 1, 0, 1]\n",
      "[0, 1, 0, 1, 0]\n",
      "[0, 0, 1, 0, 0]\n",
      "[1, 1, 0, 0, 0]\n"
     ]
    }
   ],
   "source": [
    "#2..... Function to convert edge list to adjacency matrix\n",
    "def edge_list_to_adjacency_matrix(edge_list):\n",
    "    l1 = [\"s1\", \"s2\", \"s3\", \"s4\", \"s5\"]  # List of all nodes (labels)\n",
    "    n = len(l1)  # Total number of nodes\n",
    "    matrix = []  # This will store the adjacency matrix\n",
    "\n",
    "    # Step 1: Initialize n x n matrix filled with 0s\n",
    "    for i in range(n):\n",
    "        row = []\n",
    "        for j in range(n):\n",
    "            row.append(0)\n",
    "        matrix.append(row)\n",
    "\n",
    "    # Step 2: Traverse each edge and mark 1 in matrix\n",
    "    for edge in edge_list:\n",
    "        u = edge[0]  # First node of edge\n",
    "        v = edge[1]  # Second node of edge\n",
    "        i = l1.index(u)  # Row index\n",
    "        j = l1.index(v)  # Column index\n",
    "        matrix[i][j] = 1  # Mark edge from u to v\n",
    "        matrix[j][i] = 1  # Mark edge from v to u (for undirected graph)\n",
    "\n",
    "    return matrix  # Return final adjacency matrix\n",
    "\n",
    "# Example edge list\n",
    "edges = [(\"s1\", \"s2\"), (\"s1\", \"s5\"), (\"s2\", \"s3\"), (\"s2\", \"s5\"), (\"s3\", \"s4\")]\n",
    "\n",
    "# Convert edge list to adjacency matrix\n",
    "val = edge_list_to_adjacency_matrix(edges)\n",
    "\n",
    "# Print each row of the matrix\n",
    "for row in val:\n",
    "    print(row)\n"
   ]
  },
  {
   "cell_type": "code",
   "execution_count": null,
   "id": "ea256f2e",
   "metadata": {},
   "outputs": [
    {
     "name": "stdout",
     "output_type": "stream",
     "text": [
      "{'s1': ['s2', 's5'], 's2': ['s1', 's3', 's5'], 's3': ['s2', 's4'], 's4': ['s3'], 's5': ['s1', 's2']}\n"
     ]
    }
   ],
   "source": [
    "# 3.....Function to convert adjacency matrix to adjacency list\n",
    "def adjancy_matrix_to_adjancylist(v):\n",
    "    dict1 = {}  # Final adjacency list as dictionary\n",
    "    l1 = [\"s1\", \"s2\", \"s3\", \"s4\", \"s5\"]  # Node labels corresponding to matrix indices\n",
    "\n",
    "    # Loop through each row of the matrix\n",
    "    for i in range(len(v)):\n",
    "        l = []  # List to store neighbors of current node\n",
    "\n",
    "        # Loop through each column of the current row\n",
    "        for j in range(len(v)):\n",
    "            if v[i][j] == 1:  # If there's an edge from node i to node j\n",
    "                l.append(l1[j])  # Add the corresponding node label to the list\n",
    "\n",
    "        key = l1[i]   # Node label for current row\n",
    "        value = l     # List of neighbors\n",
    "        dict1[key] = value  # Add to adjacency list\n",
    "\n",
    "    return dict1  # Return the final adjacency list\n",
    "\n",
    "\n",
    "# Example adjacency matrix (undirected)\n",
    "val = [\n",
    "    [0, 1, 0, 0, 1],  # s1 → s2, s5\n",
    "    [1, 0, 1, 0, 1],  # s2 → s1, s3, s5\n",
    "    [0, 1, 0, 1, 0],  # s3 → s2, s4\n",
    "    [0, 0, 1, 0, 0],  # s4 → s3\n",
    "    [1, 1, 0, 0, 0]   # s5 → s1, s2\n",
    "]\n",
    "\n",
    "# Convert and print the adjacency list\n",
    "print(adjancy_matrix_to_adjancylist(val))\n"
   ]
  },
  {
   "cell_type": "code",
   "execution_count": 5,
   "id": "4de77867",
   "metadata": {},
   "outputs": [
    {
     "name": "stdout",
     "output_type": "stream",
     "text": [
      "[0, 1, 0, 0, 1]\n",
      "[1, 0, 1, 0, 1]\n",
      "[0, 1, 0, 1, 0]\n",
      "[0, 0, 1, 0, 0]\n",
      "[1, 1, 0, 0, 0]\n"
     ]
    }
   ],
   "source": [
    "#4\n",
    "def adjencylist_to_adjencymatrix(adj_list):\n",
    "    l1 = [\"s1\", \"s2\", \"s3\", \"s4\", \"s5\"]  # List of node names (fixed order)\n",
    "    n = len(l1)\n",
    "    \n",
    "    # Initialize a matrix of size n x n with all zeros\n",
    "    matrix = [[0] * n for _ in range(n)]\n",
    "    \n",
    "    # Iterate through the adjacency list\n",
    "    for node, neighbors in adj_list.items():\n",
    "        i = l1.index(node)  # Find the row index for the node\n",
    "        for neighbor in neighbors:\n",
    "            j = l1.index(neighbor)  # Find the column index for the neighbor\n",
    "            matrix[i][j] = 1  # Set the matrix element to 1 for the edge\n",
    "            matrix[j][i] = 1  # For undirected graph, set the reverse edge as well\n",
    "\n",
    "    return matrix\n",
    "\n",
    "# Example adjacency list (undirected)\n",
    "adj_list = {\n",
    "    's1': ['s2', 's5'],\n",
    "    's2': ['s1', 's3', 's5'],\n",
    "    's3': ['s2', 's4'],\n",
    "    's4': ['s3'],\n",
    "    's5': ['s1', 's2']\n",
    "}\n",
    "\n",
    "# Call the function and print the result\n",
    "val = adjencylist_to_adjencymatrix(adj_list)\n",
    "\n",
    "# Print the adjacency matrix\n",
    "for row in val:\n",
    "    print(row)\n"
   ]
  },
  {
   "cell_type": "code",
   "execution_count": 6,
   "id": "75a89011",
   "metadata": {},
   "outputs": [
    {
     "name": "stdout",
     "output_type": "stream",
     "text": [
      "{'s1': ['s2', 's5'], 's2': ['s1', 's3', 's5'], 's3': ['s2', 's4'], 's4': ['s3'], 's5': ['s1', 's2']}\n"
     ]
    }
   ],
   "source": [
    "# 5\n",
    "def edge_list_to_adjacency_list(edge_list):\n",
    "    dict1 = {}\n",
    "    l1 = [\"s1\", \"s2\", \"s3\", \"s4\", \"s5\"]\n",
    "    \n",
    "    # Initialize adjacency list for all nodes\n",
    "    for node in l1:\n",
    "        dict1[node] = []\n",
    "    \n",
    "    # Fill adjacency list from the edge list\n",
    "    for edge in edge_list:\n",
    "        u = edge[0]\n",
    "        v = edge[1]\n",
    "        dict1[u].append(v)\n",
    "        dict1[v].append(u)  # For undirected graph\n",
    "\n",
    "    return dict1\n",
    "\n",
    "# Example edge list (undirected)\n",
    "edges = [(\"s1\", \"s2\"), (\"s1\", \"s5\"), (\"s2\", \"s3\"), (\"s2\", \"s5\"), (\"s3\", \"s4\")]\n",
    "\n",
    "# Call the function\n",
    "val = edge_list_to_adjacency_list(edges)\n",
    "\n",
    "# Print the adjacency list\n",
    "print(val)\n"
   ]
  },
  {
   "cell_type": "code",
   "execution_count": null,
   "id": "cd48a452",
   "metadata": {},
   "outputs": [
    {
     "name": "stdout",
     "output_type": "stream",
     "text": [
      "{'s1': ['s2', 's5'], 's2': ['s1', 's3', 's5'], 's5': ['s1', 's2'], 's3': ['s2', 's4'], 's4': ['s3']}\n"
     ]
    }
   ],
   "source": [
    "#6....\n",
    "def adjencymatrix_to_adjlist_undirected(matrix):\n",
    "    l1 = [\"s1\", \"s2\", \"s3\", \"s4\", \"s5\"]  # List of node names (fixed order)\n",
    "    n = len(l1)\n",
    "    \n",
    "    # Initialize an empty adjacency list\n",
    "    adj_list = {}\n",
    "    \n",
    "    # Iterate through the adjacency matrix\n",
    "    for i in range(n):\n",
    "        node = l1[i]\n",
    "        if node not in adj_list:\n",
    "            adj_list[node] = []\n",
    "        for j in range(i + 1, n):  # Only iterate over the upper triangle of the matrix to avoid duplicates\n",
    "            if matrix[i][j] == 1:  # There's an edge between node i and node j\n",
    "                adj_list[node].append(l1[j])  # Add the neighbor to the adjacency list\n",
    "                if l1[j] not in adj_list:\n",
    "                    adj_list[l1[j]] = []\n",
    "                adj_list[l1[j]].append(node)  # Add reverse edge for undirected graph\n",
    "                \n",
    "    # Sort the neighbors for each node\n",
    "    for node in adj_list:\n",
    "        adj_list[node].sort()\n",
    "        \n",
    "    return adj_list\n",
    "\n",
    "# Example adjacency matrix (undirected)\n",
    "matrix_undirected = [\n",
    "    [0, 1, 0, 0, 1],\n",
    "    [1, 0, 1, 0, 1],\n",
    "    [0, 1, 0, 1, 0],\n",
    "    [0, 0, 1, 0, 0],\n",
    "    [1, 1, 0, 0, 0]\n",
    "]\n",
    "\n",
    "# Call the function and print the result\n",
    "adj_list_undirected = adjencymatrix_to_adjlist_undirected(matrix_undirected)\n",
    "\n",
    "# Print the adjacency list\n",
    "print(adj_list_undirected)\n"
   ]
  },
  {
   "cell_type": "markdown",
   "id": "da52f10f",
   "metadata": {},
   "source": [
    "<h4>3..Given a graph and two vertices, check if they are adjacent. </h4>"
   ]
  },
  {
   "cell_type": "code",
   "execution_count": 8,
   "id": "30ae3fc0",
   "metadata": {},
   "outputs": [
    {
     "name": "stdout",
     "output_type": "stream",
     "text": [
      "they are adjacent\n"
     ]
    }
   ],
   "source": [
    "# Function to check if two nodes are adjacent in an adjacency list\n",
    "def check_adjacent(adj_list, a, b):\n",
    "    # Iterate through the adjacency list to check if `a` is adjacent to `b`\n",
    "    for node in adj_list:\n",
    "        if node == a:\n",
    "            # Check if b is in the list of adjacent nodes for a\n",
    "            for neighbor in adj_list[node]:\n",
    "                if neighbor == b:\n",
    "                    return \"they are adjacent\"\n",
    "        if node == b:\n",
    "            # Check if a is in the list of adjacent nodes for b\n",
    "            for neighbor in adj_list[node]:\n",
    "                if neighbor == a:\n",
    "                    return \"they are adjacent\"\n",
    "    \n",
    "    return \"they are not adjacent\"  # If neither is found connected\n",
    "\n",
    "\n",
    "# 🔽 Example usage\n",
    "full_con = {\n",
    "    \"Himanshu Kumar\": [\"RAJIV KUMAR\", \"Amit\"],\n",
    "    \"RAJIV KUMAR\": [\"Himanshu Kumar\"],\n",
    "    \"Amit\": [\"Himanshu Kumar\"]\n",
    "}\n",
    "\n",
    "# Check adjacency between two people\n",
    "print(check_adjacent(full_con, \"Himanshu Kumar\", \"RAJIV KUMAR\"))  # Output: they are adjacent\n"
   ]
  },
  {
   "cell_type": "markdown",
   "id": "b2b1aa3b",
   "metadata": {},
   "source": [
    "<h4>4.Check if a graph is complete.</h4>"
   ]
  },
  {
   "cell_type": "code",
   "execution_count": 9,
   "id": "37dcd73d",
   "metadata": {},
   "outputs": [
    {
     "name": "stdout",
     "output_type": "stream",
     "text": [
      "False\n"
     ]
    }
   ],
   "source": [
    "# Function to check if the given graph (as an adjacency matrix) is complete\n",
    "def checkcomplete(matrix):\n",
    "    n = len(matrix)  # Number of nodes in the graph\n",
    "\n",
    "    # Traverse each cell in the matrix\n",
    "    for i in range(n):\n",
    "        for j in range(n):\n",
    "            # Skip diagonal (i == j), check if all off-diagonal elements are 1\n",
    "            if i != j and matrix[i][j] != 1:\n",
    "                return False  # If any non-diagonal cell is not 1, graph is not complete\n",
    "\n",
    "    return True  # All off-diagonal cells are 1, so the graph is complete\n",
    "\n",
    "\n",
    "# Example adjacency matrix (4-node graph)\n",
    "val = [\n",
    "    [0, 1, 0, 1],\n",
    "    [1, 0, 1, 1],\n",
    "    [1, 1, 0, 1],\n",
    "    [1, 1, 1, 0]\n",
    "]\n",
    "\n",
    "# Check if the graph is complete\n",
    "print(checkcomplete(val))\n"
   ]
  },
  {
   "cell_type": "markdown",
   "id": "d461da80",
   "metadata": {},
   "source": [
    "<h4>5.Check if a graph is connected.</h4>"
   ]
  },
  {
   "cell_type": "code",
   "execution_count": 10,
   "id": "cdc665c0",
   "metadata": {},
   "outputs": [
    {
     "name": "stdout",
     "output_type": "stream",
     "text": [
      "This is a connected graph\n"
     ]
    }
   ],
   "source": [
    "import random\n",
    "\n",
    "# Function to check if an undirected graph is connected\n",
    "def check_connected(graph):\n",
    "    if not graph:  \n",
    "        return \"Graph is empty\"  # Handle empty graph\n",
    "\n",
    "    visited = set()  # Set to track visited nodes\n",
    "    queue = []       # Queue for BFS traversal\n",
    "\n",
    "    start_node = random.choice(list(graph.keys()))  # Randomly pick a starting node\n",
    "    queue.append(start_node)\n",
    "    visited.add(start_node)\n",
    "\n",
    "    # Perform BFS\n",
    "    while queue:\n",
    "        current = queue.pop(0)  # Dequeue current node\n",
    "        for neighbor in graph[current]:  # Explore neighbors\n",
    "            if neighbor not in visited:\n",
    "                visited.add(neighbor)\n",
    "                queue.append(neighbor)\n",
    "\n",
    "    # If all nodes were visited, graph is connected\n",
    "    if len(visited) == len(graph):\n",
    "        return \"This is a connected graph\"\n",
    "    else:\n",
    "        return \"Not connected\"\n",
    "\n",
    "\n",
    "# Example 1: Connected graph\n",
    "graph = {\n",
    "    'A': ['B', 'C'],\n",
    "    'B': ['A', 'D'],\n",
    "    'C': ['A', 'D'],\n",
    "    'D': ['B', 'C']\n",
    "}\n",
    "print(check_connected(graph))  # Output: This is a connected graph\n",
    "\n"
   ]
  },
  {
   "cell_type": "markdown",
   "id": "02134763",
   "metadata": {},
   "source": [
    "<h4>6.Given a graph and a list of vertices, check if it forms a walk, or a trail or a path or none of these.</h4>"
   ]
  },
  {
   "cell_type": "code",
   "execution_count": 11,
   "id": "4d3e9074",
   "metadata": {},
   "outputs": [
    {
     "name": "stdout",
     "output_type": "stream",
     "text": [
      "Classification: Trivially a walk (only one vertex or empty sequence)\n"
     ]
    }
   ],
   "source": [
    "# Function to classify a given vertex sequence as Path, Trail, or Walk\n",
    "def classify_sequence(graph, vertices):\n",
    "    # If sequence has less than 2 vertices, it's trivially a walk\n",
    "    if len(vertices) < 2:\n",
    "        return \"Trivially a walk (only one vertex or empty sequence)\"\n",
    "\n",
    "    seen_edges = set()       # To track unique edges\n",
    "    repeated_edge = False    # Flag for repeated edges\n",
    "\n",
    "    # Iterate over consecutive vertex pairs\n",
    "    for i in range(len(vertices) - 1):\n",
    "        u, v = vertices[i], vertices[i + 1]\n",
    "\n",
    "        # Check if edge exists between u and v in graph\n",
    "        if v not in graph.get(u, []):\n",
    "            return \"None of these (edge between {} and {} doesn't exist)\".format(u, v)\n",
    "\n",
    "        edge = tuple(sorted((u, v)))  # Represent edge for undirected graph\n",
    "        if edge in seen_edges:\n",
    "            repeated_edge = True  # Mark edge as repeated\n",
    "        seen_edges.add(edge)\n",
    "\n",
    "    # Check if any vertex is repeated\n",
    "    repeated_vertex = len(set(vertices)) != len(vertices)\n",
    "\n",
    "    # Classify based on repetitions\n",
    "    if not repeated_edge and not repeated_vertex:\n",
    "        return \"Path\"      # No repeated edges or vertices\n",
    "    elif not repeated_edge:\n",
    "        return \"Trail\"     # No repeated edges, but vertices may repeat\n",
    "    elif repeated_edge:\n",
    "        return \"Walk\"      # Repeated edges allowed\n",
    "    else:\n",
    "        return \"None of these\"  # Should not reach here ideally\n",
    "\n",
    "\n",
    "# Sample graph represented as an adjacency list\n",
    "graph = {\n",
    "    'A': ['B'],\n",
    "    'B': ['A', 'C', 'D'],\n",
    "    'C': ['B'],\n",
    "    'D': ['B', 'E'],\n",
    "    'E': ['D']\n",
    "}\n",
    "\n",
    "# Sample vertex sequence to classify\n",
    "vertices = ['s1']  # Example sequence (invalid for this graph, for demonstration)\n",
    "\n",
    "# Call the function and print the result\n",
    "result = classify_sequence(graph, vertices)\n",
    "print(\"Classification:\", result)\n"
   ]
  },
  {
   "cell_type": "markdown",
   "id": "aaa4fc8d",
   "metadata": {},
   "source": [
    "<h4>7.Check if a given graph is a tree.</h4>"
   ]
  },
  {
   "cell_type": "code",
   "execution_count": 12,
   "id": "d6d7184c",
   "metadata": {},
   "outputs": [
    {
     "name": "stdout",
     "output_type": "stream",
     "text": [
      "Is Tree: False\n"
     ]
    }
   ],
   "source": [
    "# Function to check whether a graph is a tree based on its edges\n",
    "def isTree(edges):\n",
    "    # Step 1: Count total number of nodes by finding the maximum node label\n",
    "    max_node = 0\n",
    "    for edge in edges:\n",
    "        u = edge[0]\n",
    "        v = edge[1]\n",
    "        if u > max_node:\n",
    "            max_node = u\n",
    "        if v > max_node:\n",
    "            max_node = v\n",
    "    n = max_node + 1  # Since nodes are 0-indexed\n",
    "\n",
    "    # Step 2: Create adjacency list representation of the graph\n",
    "    adj = []\n",
    "    for i in range(n):\n",
    "        adj.append([])  # Initialize empty list for each node\n",
    "    for edge in edges:\n",
    "        u = edge[0]\n",
    "        v = edge[1]\n",
    "        adj[u].append(v)  # Add v to u's adjacency list\n",
    "        adj[v].append(u)  # Add u to v's adjacency list (since graph is undirected)\n",
    "\n",
    "    # Step 3: Create visited list to track visited nodes during DFS\n",
    "    visited = []\n",
    "    for i in range(n):\n",
    "        visited.append(False)\n",
    "\n",
    "    # Step 4: Perform DFS to detect a cycle\n",
    "    def dfs(node, parent):\n",
    "        visited[node] = True  # Mark current node as visited\n",
    "        for nei in adj[node]:  # Traverse all neighbors\n",
    "            if visited[nei] == False:\n",
    "                if dfs(nei, node) == True:  # Recursive DFS call\n",
    "                    return True  # Cycle found\n",
    "            elif nei != parent:\n",
    "                return True  # Found a back edge (cycle)\n",
    "        return False  # No cycle found\n",
    "\n",
    "    # Step 5: Start DFS from node 0\n",
    "    if dfs(0, -1) == True:\n",
    "        return False  # Graph has a cycle → not a tree\n",
    "\n",
    "    # Step 6: Ensure all nodes are connected (visited)\n",
    "    for i in range(n):\n",
    "        if visited[i] == False:\n",
    "            return False  # Graph is disconnected → not a tree\n",
    "\n",
    "    return True  # Graph is connected and has no cycles → it's a tree\n",
    "\n",
    "\n",
    "# Example edge list\n",
    "edges = [\n",
    "    [0, 1],\n",
    "    [0, 2],\n",
    "    [0, 3],\n",
    "    [9, 4]\n",
    "]\n",
    "\n",
    "# Output whether the given edge list represents a tree\n",
    "print(\"Is Tree:\", isTree(edges))  # Output: True\n"
   ]
  },
  {
   "cell_type": "markdown",
   "id": "79ac30e1",
   "metadata": {},
   "source": [
    "<h4>8.Given a connected cyclic graph, find its spanning tree.</h4>"
   ]
  },
  {
   "cell_type": "code",
   "execution_count": 13,
   "id": "82f9c323",
   "metadata": {},
   "outputs": [
    {
     "name": "stdout",
     "output_type": "stream",
     "text": [
      "Spanning Tree edges:\n",
      "[0, 1]\n",
      "[1, 2]\n",
      "[1, 3]\n"
     ]
    }
   ],
   "source": [
    "# Function to find a spanning tree from the given graph edges\n",
    "def findSpanningTree(edges):\n",
    "    # Step 1: Get number of nodes by finding the highest node label in the edge list\n",
    "    max_node = 0\n",
    "    for u, v in edges:\n",
    "        if u > max_node:\n",
    "            max_node = u  # Track the highest node label\n",
    "        if v > max_node:\n",
    "            max_node = v  # Track the highest node label\n",
    "    n = max_node + 1  # Number of nodes (since node labels are 0-indexed)\n",
    "\n",
    "    # Step 2: Build an adjacency list representation of the graph\n",
    "    adj = []\n",
    "    for i in range(n):\n",
    "        adj.append([])  # Initialize adjacency list for each node\n",
    "    for u, v in edges:\n",
    "        adj[u].append(v)  # Add edge v to the adjacency list of u\n",
    "        adj[v].append(u)  # Add edge u to the adjacency list of v (undirected graph)\n",
    "\n",
    "    # Step 3: Initialize visited list to track nodes visited during DFS\n",
    "    visited = []\n",
    "    for i in range(n):\n",
    "        visited.append(False)\n",
    "\n",
    "    # List to store the edges of the spanning tree\n",
    "    spanning_tree = []\n",
    "\n",
    "    # Step 4: Depth-First Search (DFS) function to build the spanning tree\n",
    "    def dfs(node):\n",
    "        visited[node] = True  # Mark the current node as visited\n",
    "        for nei in adj[node]:  # Traverse all neighbors of the current node\n",
    "            if visited[nei] == False:  # If neighbor is not visited\n",
    "                spanning_tree.append([node, nei])  # Add edge to spanning tree\n",
    "                dfs(nei)  # Recursive DFS call\n",
    "\n",
    "    # Step 5: Start DFS from node 0 (or any node in the graph)\n",
    "    dfs(0)\n",
    "\n",
    "    return spanning_tree  # Return the spanning tree as a list of edges\n",
    "\n",
    "# Example edge list representing a connected cyclic graph\n",
    "edges = [\n",
    "    [0, 1],\n",
    "    [1, 2],\n",
    "    [2, 0],  # Cycle here\n",
    "    [1, 3]\n",
    "]\n",
    "\n",
    "# Find and print the edges of the spanning tree\n",
    "tree = findSpanningTree(edges)\n",
    "print(\"Spanning Tree edges:\")\n",
    "for e in tree:\n",
    "    print(e)  # Output each edge in the spanning tree\n"
   ]
  },
  {
   "cell_type": "markdown",
   "id": "0e0df60c",
   "metadata": {},
   "source": [
    "<h4>9.Given a tree, find the number of leaf nodes.\n",
    "</h4>"
   ]
  },
  {
   "cell_type": "code",
   "execution_count": 17,
   "id": "8aa563d3",
   "metadata": {},
   "outputs": [
    {
     "name": "stdout",
     "output_type": "stream",
     "text": [
      "Number of leaf nodes: 3\n"
     ]
    }
   ],
   "source": [
    "# Function to count the number of leaf nodes in a tree given its edges\n",
    "def count_leaf_nodes(edges):\n",
    "    # Step 1: Find the number of nodes by identifying the highest node label\n",
    "    max_node = 0\n",
    "    for u, v in edges:\n",
    "        if u > max_node:\n",
    "            max_node = u  # Track the highest node label\n",
    "        if v > max_node:\n",
    "            max_node = v  # Track the highest node label\n",
    "    n = max_node + 1  # Total number of nodes (since node labels are 0-indexed)\n",
    "\n",
    "    # Step 2: Build adjacency list to represent the tree\n",
    "    adj = [[] for _ in range(n)]  # Initialize the adjacency list\n",
    "\n",
    "    # Populate the adjacency list with edges\n",
    "    for u, v in edges:\n",
    "        adj[u].append(v)  # Add v to the adjacency list of u\n",
    "        adj[v].append(u)  # Add u to the adjacency list of v (since it's undirected)\n",
    "\n",
    "    # Step 3: Count leaf nodes (nodes with only one connection)\n",
    "    leaf_count = 0\n",
    "    for i in range(n):\n",
    "        if len(adj[i]) == 1:  # A leaf node has only one neighbor\n",
    "            leaf_count += 1\n",
    "\n",
    "    return leaf_count  # Return the number of leaf nodes\n",
    "\n",
    "# Example Input (Tree)\n",
    "edges = [\n",
    "    [0, 1],  # Edge between node 0 and node 1\n",
    "    [0, 2],  # Edge between node 0 and node 2\n",
    "    [1, 3],  # Edge between node 1 and node 3\n",
    "    [1, 4]   # Edge between node 1 and node 4\n",
    "]\n",
    "\n",
    "# Count the number of leaf nodes in the tree\n",
    "leaf_nodes = count_leaf_nodes(edges)\n",
    "print(\"Number of leaf nodes:\", leaf_nodes)  # Output the number of leaf nodes\n"
   ]
  },
  {
   "cell_type": "markdown",
   "id": "cbe4b640",
   "metadata": {},
   "source": [
    "<h4>10.Given a tree, check if it's a binary tree.\n",
    "</h4>"
   ]
  },
  {
   "cell_type": "code",
   "execution_count": 14,
   "id": "c32840f7",
   "metadata": {},
   "outputs": [
    {
     "name": "stdout",
     "output_type": "stream",
     "text": [
      "The tree is a binary tree.\n"
     ]
    }
   ],
   "source": [
    "# Function to check whether a given graph is a binary tree based on the provided edges\n",
    "def isBinaryTree(edges):\n",
    "    # Step 1: Find the number of nodes in the tree by identifying the highest node label\n",
    "    max_node = 0\n",
    "    for i in range(len(edges)):\n",
    "        u = edges[i][0]\n",
    "        v = edges[i][1]\n",
    "        if u > max_node:\n",
    "            max_node = u  # Track the highest node label\n",
    "        if v > max_node:\n",
    "            max_node = v  # Track the highest node label\n",
    "    n = max_node + 1  # Total number of nodes (since node labels are 0-indexed)\n",
    "\n",
    "    # Step 2: Build an adjacency list representation of the graph\n",
    "    adj = []\n",
    "    for i in range(n):\n",
    "        adj.append([])  # Initialize adjacency list for each node\n",
    "\n",
    "    # Step 3: Populate the adjacency list with edges from the input\n",
    "    for i in range(len(edges)):\n",
    "        u = edges[i][0]\n",
    "        v = edges[i][1]\n",
    "        adj[u].append(v)  # Add v to the adjacency list of u\n",
    "        adj[v].append(u)  # Add u to the adjacency list of v (since it's undirected)\n",
    "\n",
    "    # Step 4: Check if any node has more than 2 children (in a binary tree, max 2 children per node)\n",
    "    for i in range(n):\n",
    "        if len(adj[i]) > 3:  # A node can have at most 2 children + 1 parent\n",
    "            return False  # If any node violates this, it's not a binary tree\n",
    "\n",
    "    return True  # If all nodes have <= 2 children, it is a binary tree\n",
    "\n",
    "# Example Input (Tree)\n",
    "edges = [\n",
    "    [0, 1],  # Edge between node 0 and node 1\n",
    "    [0, 2],  # Edge between node 0 and node 2\n",
    "    [1, 3],  # Edge between node 1 and node 3\n",
    "    [1, 4]   # Edge between node 1 and node 4\n",
    "]\n",
    "\n",
    "# Check if the tree is a binary tree by calling the function\n",
    "result = isBinaryTree(edges)\n",
    "if result:\n",
    "    print(\"The tree is a binary tree.\")  # Output if the tree is a binary tree\n",
    "else:\n",
    "    print(\"The tree is NOT a binary tree.\")  # Output if the tree is not a binary tree\n"
   ]
  },
  {
   "cell_type": "markdown",
   "id": "8123439e",
   "metadata": {},
   "source": [
    "<h4>11.Given a tree and a node, find its height.\n",
    "</h4>"
   ]
  },
  {
   "cell_type": "code",
   "execution_count": 15,
   "id": "2d6aeae5",
   "metadata": {},
   "outputs": [
    {
     "name": "stdout",
     "output_type": "stream",
     "text": [
      "Height of the tree: 2\n"
     ]
    }
   ],
   "source": [
    "def findHeight(edges):\n",
    "    # Step 1: Find the number of nodes in the tree\n",
    "    max_node = 0\n",
    "    for i in range(len(edges)):\n",
    "        u = edges[i][0]\n",
    "        v = edges[i][1]\n",
    "        if u > max_node:\n",
    "            max_node = u\n",
    "        if v > max_node:\n",
    "            max_node = v\n",
    "    n = max_node + 1  # Total number of nodes in the tree\n",
    "\n",
    "    # Step 2: Build adjacency list for the tree\n",
    "    adj = []\n",
    "    for i in range(n):\n",
    "        adj.append([])\n",
    "\n",
    "    for i in range(len(edges)):\n",
    "        u = edges[i][0]\n",
    "        v = edges[i][1]\n",
    "        adj[u].append(v)\n",
    "        adj[v].append(u)\n",
    "\n",
    "    # Step 3: DFS to calculate the height of the tree\n",
    "    visited = [False] * n  # To keep track of visited nodes\n",
    "\n",
    "    def dfs(node):\n",
    "        visited[node] = True\n",
    "        height = 0  # Initial height of the node\n",
    "        \n",
    "        # Visit all neighbors (children)\n",
    "        for neighbor in adj[node]:\n",
    "            if not visited[neighbor]:\n",
    "                child_height = dfs(neighbor)  # Recursively calculate child's height\n",
    "                height = max(height, child_height)  # Get the maximum height from children\n",
    "        \n",
    "        # Return height of current node (1 + maximum height of child)\n",
    "        return height + 1\n",
    "\n",
    "    # Start DFS from the root node (0)\n",
    "    return dfs(0) - 1  # Subtract 1 because DFS counts edges, not nodes\n",
    "\n",
    "# Example Input (Tree)\n",
    "edges = [\n",
    "    [0, 1],\n",
    "    [0, 2],\n",
    "    [1, 3],\n",
    "    [1, 4]\n",
    "]\n",
    "\n",
    "# Find the height of the tree\n",
    "height = findHeight(edges)\n",
    "print(\"Height of the tree:\", height)\n"
   ]
  },
  {
   "cell_type": "markdown",
   "id": "d70b36db",
   "metadata": {},
   "source": [
    "<h4>12.Given a tree and a node, find its depth.\n",
    "</h4>"
   ]
  },
  {
   "cell_type": "code",
   "execution_count": 16,
   "id": "f45cf537",
   "metadata": {},
   "outputs": [
    {
     "name": "stdout",
     "output_type": "stream",
     "text": [
      "Depth of the tree: 2\n"
     ]
    }
   ],
   "source": [
    "def findDepth(edges):\n",
    "    # Step 1: Find the number of nodes in the tree\n",
    "    max_node = 0\n",
    "    for i in range(len(edges)):\n",
    "        u = edges[i][0]\n",
    "        v = edges[i][1]\n",
    "        if u > max_node:\n",
    "            max_node = u\n",
    "        if v > max_node:\n",
    "            max_node = v\n",
    "    n = max_node + 1  # Total number of nodes in the tree\n",
    "\n",
    "    # Step 2: Build adjacency list for the tree\n",
    "    adj = []\n",
    "    for i in range(n):\n",
    "        adj.append([])\n",
    "\n",
    "    for i in range(len(edges)):\n",
    "        u = edges[i][0]\n",
    "        v = edges[i][1]\n",
    "        adj[u].append(v)\n",
    "        adj[v].append(u)\n",
    "\n",
    "    # Step 3: DFS to calculate the depth of the tree\n",
    "    visited = [False] * n  # To keep track of visited nodes\n",
    "\n",
    "    def dfs(node, depth):\n",
    "        visited[node] = True\n",
    "        max_depth = depth  # Set the current node depth as max depth\n",
    "        \n",
    "        # Visit all neighbors (children)\n",
    "        for neighbor in adj[node]:\n",
    "            if not visited[neighbor]:\n",
    "                max_depth = max(max_depth, dfs(neighbor, depth + 1))  # Recursively find max depth\n",
    "        \n",
    "        return max_depth\n",
    "\n",
    "    # Start DFS from the root node (0)\n",
    "    return dfs(0, 0)\n",
    "\n",
    "# Example Input (Tree)\n",
    "edges = [\n",
    "    [0, 1],\n",
    "    [0, 2],\n",
    "    [1, 3],\n",
    "    [1, 4]\n",
    "]\n",
    "\n",
    "# Find the depth of the tree\n",
    "depth = findDepth(edges)\n",
    "print(\"Depth of the tree:\", depth)\n"
   ]
  },
  {
   "cell_type": "code",
   "execution_count": null,
   "id": "aba2fd98",
   "metadata": {},
   "outputs": [],
   "source": []
  }
 ],
 "metadata": {
  "kernelspec": {
   "display_name": "Python 3",
   "language": "python",
   "name": "python3"
  },
  "language_info": {
   "codemirror_mode": {
    "name": "ipython",
    "version": 3
   },
   "file_extension": ".py",
   "mimetype": "text/x-python",
   "name": "python",
   "nbconvert_exporter": "python",
   "pygments_lexer": "ipython3",
   "version": "3.12.4"
  }
 },
 "nbformat": 4,
 "nbformat_minor": 5
}
